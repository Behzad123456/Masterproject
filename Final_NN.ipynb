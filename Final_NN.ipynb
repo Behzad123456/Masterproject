{
 "cells": [
  {
   "cell_type": "code",
   "execution_count": 26,
   "id": "047f41bf",
   "metadata": {},
   "outputs": [],
   "source": [
    "#Bibliotheken\n",
    "import numpy as np                         \n",
    "import pandas as pd\n",
    "import seaborn as sns\n",
    "import matplotlib.pyplot as plt\n",
    "import random \n",
    "from tensorflow.keras.models import Sequential  \n",
    "from tensorflow.keras.layers import Dense\n",
    "from tensorflow.keras.callbacks import EarlyStopping\n",
    "from sklearn.model_selection import train_test_split"
   ]
  },
  {
   "cell_type": "code",
   "execution_count": 27,
   "id": "f5726cb4",
   "metadata": {},
   "outputs": [],
   "source": [
    "#Abrufen des Datensatz\n",
    "df = pd.read_csv(r'C:\\Users\\Persianboy\\Documents\\MATLAB\\Data.csv',header=None)"
   ]
  },
  {
   "cell_type": "code",
   "execution_count": 28,
   "id": "78eb40f5",
   "metadata": {},
   "outputs": [],
   "source": [
    "#Bestimmen des Eingangs und Ausgangs\n",
    "X = df.drop(1000, axis = 1).values\n",
    "y = df[1000].values"
   ]
  },
  {
   "cell_type": "code",
   "execution_count": 29,
   "id": "a3eb3011",
   "metadata": {},
   "outputs": [],
   "source": [
    "#Bestimmen der Test-und Traindaten\n",
    "X_train, X_test, y_train, y_test = train_test_split(X, y, test_size=0.3, random_state=101)"
   ]
  },
  {
   "cell_type": "code",
   "execution_count": 30,
   "id": "596563a9",
   "metadata": {},
   "outputs": [],
   "source": [
    "#Architektur des NN\n",
    "model = Sequential()\n",
    "model.add(Dense(16,activation = 'relu', input_shape =(1000,)))\n",
    "model.add(Dense(8,activation = 'relu'))\n",
    "model.add(Dense(4,activation = 'relu'))\n",
    "model.add(Dense(1, activation = 'relu'))\n",
    "model.compile(optimizer='Adam', loss='mae')\n",
    "model.optimizer.lr = 0.001"
   ]
  },
  {
   "cell_type": "code",
   "execution_count": 31,
   "id": "e37d744e",
   "metadata": {},
   "outputs": [],
   "source": [
    "#Stoppen des Trainierens im optimalen Epoch\n",
    "early_stop = EarlyStopping(monitor ='val_loss',mode ='min',verbose=1,patience=25)"
   ]
  },
  {
   "cell_type": "code",
   "execution_count": 32,
   "id": "03c1a0e8",
   "metadata": {},
   "outputs": [
    {
     "name": "stdout",
     "output_type": "stream",
     "text": [
      "Epoch 1/300\n",
      "20/20 [==============================] - 10s 43ms/step - loss: 9.7999 - val_loss: 9.0845\n",
      "Epoch 2/300\n",
      "20/20 [==============================] - 0s 8ms/step - loss: 8.2224 - val_loss: 7.1332\n",
      "Epoch 3/300\n",
      "20/20 [==============================] - 0s 12ms/step - loss: 5.9654 - val_loss: 4.6849\n",
      "Epoch 4/300\n",
      "20/20 [==============================] - 0s 7ms/step - loss: 3.6383 - val_loss: 2.7425\n",
      "Epoch 5/300\n",
      "20/20 [==============================] - 0s 7ms/step - loss: 1.9177 - val_loss: 1.3597\n",
      "Epoch 6/300\n",
      "20/20 [==============================] - 0s 4ms/step - loss: 0.9545 - val_loss: 0.7086\n",
      "Epoch 7/300\n",
      "20/20 [==============================] - 0s 6ms/step - loss: 0.5087 - val_loss: 0.4460\n",
      "Epoch 8/300\n",
      "20/20 [==============================] - 0s 4ms/step - loss: 0.3640 - val_loss: 0.3529\n",
      "Epoch 9/300\n",
      "20/20 [==============================] - 0s 4ms/step - loss: 0.3074 - val_loss: 0.3286\n",
      "Epoch 10/300\n",
      "20/20 [==============================] - 0s 4ms/step - loss: 0.2629 - val_loss: 0.2625\n",
      "Epoch 11/300\n",
      "20/20 [==============================] - 0s 4ms/step - loss: 0.2390 - val_loss: 0.2382\n",
      "Epoch 12/300\n",
      "20/20 [==============================] - 0s 19ms/step - loss: 0.2156 - val_loss: 0.2060\n",
      "Epoch 13/300\n",
      "20/20 [==============================] - 0s 4ms/step - loss: 0.2000 - val_loss: 0.1894\n",
      "Epoch 14/300\n",
      "20/20 [==============================] - 0s 4ms/step - loss: 0.1800 - val_loss: 0.1787\n",
      "Epoch 15/300\n",
      "20/20 [==============================] - 0s 4ms/step - loss: 0.1735 - val_loss: 0.2006\n",
      "Epoch 16/300\n",
      "20/20 [==============================] - 0s 13ms/step - loss: 0.1770 - val_loss: 0.1815\n",
      "Epoch 17/300\n",
      "20/20 [==============================] - 0s 3ms/step - loss: 0.1660 - val_loss: 0.1695\n",
      "Epoch 18/300\n",
      "20/20 [==============================] - 0s 3ms/step - loss: 0.1565 - val_loss: 0.1453\n",
      "Epoch 19/300\n",
      "20/20 [==============================] - 0s 9ms/step - loss: 0.1432 - val_loss: 0.1348\n",
      "Epoch 20/300\n",
      "20/20 [==============================] - 0s 3ms/step - loss: 0.1375 - val_loss: 0.1379\n",
      "Epoch 21/300\n",
      "20/20 [==============================] - 0s 4ms/step - loss: 0.1433 - val_loss: 0.1355\n",
      "Epoch 22/300\n",
      "20/20 [==============================] - 0s 4ms/step - loss: 0.1361 - val_loss: 0.1315\n",
      "Epoch 23/300\n",
      "20/20 [==============================] - 0s 3ms/step - loss: 0.1271 - val_loss: 0.1143\n",
      "Epoch 24/300\n",
      "20/20 [==============================] - 0s 5ms/step - loss: 0.1252 - val_loss: 0.1365\n",
      "Epoch 25/300\n",
      "20/20 [==============================] - 0s 4ms/step - loss: 0.1257 - val_loss: 0.1168\n",
      "Epoch 26/300\n",
      "20/20 [==============================] - 0s 4ms/step - loss: 0.1178 - val_loss: 0.1255\n",
      "Epoch 27/300\n",
      "20/20 [==============================] - 0s 4ms/step - loss: 0.1216 - val_loss: 0.1141\n",
      "Epoch 28/300\n",
      "20/20 [==============================] - 0s 4ms/step - loss: 0.1196 - val_loss: 0.1200\n",
      "Epoch 29/300\n",
      "20/20 [==============================] - 0s 4ms/step - loss: 0.1139 - val_loss: 0.1125\n",
      "Epoch 30/300\n",
      "20/20 [==============================] - 0s 4ms/step - loss: 0.1088 - val_loss: 0.1063\n",
      "Epoch 31/300\n",
      "20/20 [==============================] - 0s 4ms/step - loss: 0.1047 - val_loss: 0.1053\n",
      "Epoch 32/300\n",
      "20/20 [==============================] - 0s 8ms/step - loss: 0.1064 - val_loss: 0.1166\n",
      "Epoch 33/300\n",
      "20/20 [==============================] - 0s 3ms/step - loss: 0.1088 - val_loss: 0.1278\n",
      "Epoch 34/300\n",
      "20/20 [==============================] - 0s 5ms/step - loss: 0.1072 - val_loss: 0.1070\n",
      "Epoch 35/300\n",
      "20/20 [==============================] - 0s 4ms/step - loss: 0.1032 - val_loss: 0.0992\n",
      "Epoch 36/300\n",
      "20/20 [==============================] - 0s 4ms/step - loss: 0.1018 - val_loss: 0.1123\n",
      "Epoch 37/300\n",
      "20/20 [==============================] - 0s 4ms/step - loss: 0.1001 - val_loss: 0.0927\n",
      "Epoch 38/300\n",
      "20/20 [==============================] - 0s 4ms/step - loss: 0.0966 - val_loss: 0.0950\n",
      "Epoch 39/300\n",
      "20/20 [==============================] - 0s 4ms/step - loss: 0.1017 - val_loss: 0.0933\n",
      "Epoch 40/300\n",
      "20/20 [==============================] - 0s 4ms/step - loss: 0.0842 - val_loss: 0.0908\n",
      "Epoch 41/300\n",
      "20/20 [==============================] - 0s 4ms/step - loss: 0.0927 - val_loss: 0.0998\n",
      "Epoch 42/300\n",
      "20/20 [==============================] - 0s 5ms/step - loss: 0.0961 - val_loss: 0.0899\n",
      "Epoch 43/300\n",
      "20/20 [==============================] - 0s 3ms/step - loss: 0.0854 - val_loss: 0.0926\n",
      "Epoch 44/300\n",
      "20/20 [==============================] - 0s 3ms/step - loss: 0.0934 - val_loss: 0.0974\n",
      "Epoch 45/300\n",
      "20/20 [==============================] - 0s 3ms/step - loss: 0.0898 - val_loss: 0.1015\n",
      "Epoch 46/300\n",
      "20/20 [==============================] - 0s 3ms/step - loss: 0.0917 - val_loss: 0.0999\n",
      "Epoch 47/300\n",
      "20/20 [==============================] - 0s 3ms/step - loss: 0.1057 - val_loss: 0.1072\n",
      "Epoch 48/300\n",
      "20/20 [==============================] - 1s 26ms/step - loss: 0.0923 - val_loss: 0.0873\n",
      "Epoch 49/300\n",
      "20/20 [==============================] - 0s 3ms/step - loss: 0.0822 - val_loss: 0.0887\n",
      "Epoch 50/300\n",
      "20/20 [==============================] - 0s 3ms/step - loss: 0.0800 - val_loss: 0.0938\n",
      "Epoch 51/300\n",
      "20/20 [==============================] - 0s 3ms/step - loss: 0.0767 - val_loss: 0.0806\n",
      "Epoch 52/300\n",
      "20/20 [==============================] - 0s 3ms/step - loss: 0.0800 - val_loss: 0.0730\n",
      "Epoch 53/300\n",
      "20/20 [==============================] - 0s 3ms/step - loss: 0.0770 - val_loss: 0.0940\n",
      "Epoch 54/300\n",
      "20/20 [==============================] - 0s 3ms/step - loss: 0.0876 - val_loss: 0.0870\n",
      "Epoch 55/300\n",
      "20/20 [==============================] - 0s 6ms/step - loss: 0.0842 - val_loss: 0.0984\n",
      "Epoch 56/300\n",
      "20/20 [==============================] - 0s 4ms/step - loss: 0.0870 - val_loss: 0.1089\n",
      "Epoch 57/300\n",
      "20/20 [==============================] - 0s 3ms/step - loss: 0.0863 - val_loss: 0.0745\n",
      "Epoch 58/300\n",
      "20/20 [==============================] - 0s 3ms/step - loss: 0.0793 - val_loss: 0.0907\n",
      "Epoch 59/300\n",
      "20/20 [==============================] - 0s 4ms/step - loss: 0.0875 - val_loss: 0.0779\n",
      "Epoch 60/300\n",
      "20/20 [==============================] - 0s 4ms/step - loss: 0.0832 - val_loss: 0.0831\n",
      "Epoch 61/300\n",
      "20/20 [==============================] - 0s 3ms/step - loss: 0.0776 - val_loss: 0.0901\n",
      "Epoch 62/300\n",
      "20/20 [==============================] - 0s 3ms/step - loss: 0.0833 - val_loss: 0.0793\n",
      "Epoch 63/300\n",
      "20/20 [==============================] - 0s 3ms/step - loss: 0.0786 - val_loss: 0.0846\n",
      "Epoch 64/300\n",
      "20/20 [==============================] - 0s 4ms/step - loss: 0.0747 - val_loss: 0.0767\n",
      "Epoch 65/300\n",
      "20/20 [==============================] - 0s 4ms/step - loss: 0.0751 - val_loss: 0.0816\n",
      "Epoch 66/300\n",
      "20/20 [==============================] - 0s 3ms/step - loss: 0.0810 - val_loss: 0.0746\n",
      "Epoch 67/300\n",
      "20/20 [==============================] - 0s 4ms/step - loss: 0.0729 - val_loss: 0.0750\n",
      "Epoch 68/300\n",
      "20/20 [==============================] - 0s 4ms/step - loss: 0.0778 - val_loss: 0.0840\n",
      "Epoch 69/300\n",
      "20/20 [==============================] - 0s 4ms/step - loss: 0.0807 - val_loss: 0.0874\n",
      "Epoch 70/300\n",
      "20/20 [==============================] - 0s 3ms/step - loss: 0.0810 - val_loss: 0.0844\n",
      "Epoch 71/300\n",
      "20/20 [==============================] - 0s 3ms/step - loss: 0.0820 - val_loss: 0.0708\n",
      "Epoch 72/300\n",
      "20/20 [==============================] - 0s 4ms/step - loss: 0.0716 - val_loss: 0.0783\n",
      "Epoch 73/300\n",
      "20/20 [==============================] - 0s 4ms/step - loss: 0.0701 - val_loss: 0.0703\n",
      "Epoch 74/300\n",
      "20/20 [==============================] - 0s 4ms/step - loss: 0.0755 - val_loss: 0.0776\n",
      "Epoch 75/300\n",
      "20/20 [==============================] - 0s 3ms/step - loss: 0.0713 - val_loss: 0.0727\n",
      "Epoch 76/300\n",
      "20/20 [==============================] - 0s 3ms/step - loss: 0.0740 - val_loss: 0.0759\n",
      "Epoch 77/300\n",
      "20/20 [==============================] - 0s 4ms/step - loss: 0.0698 - val_loss: 0.0716\n",
      "Epoch 78/300\n",
      "20/20 [==============================] - 0s 4ms/step - loss: 0.0677 - val_loss: 0.0758\n",
      "Epoch 79/300\n",
      "20/20 [==============================] - 0s 4ms/step - loss: 0.0693 - val_loss: 0.0809\n",
      "Epoch 80/300\n",
      "20/20 [==============================] - 0s 4ms/step - loss: 0.0723 - val_loss: 0.0740\n",
      "Epoch 81/300\n",
      "20/20 [==============================] - 0s 4ms/step - loss: 0.0801 - val_loss: 0.0902\n",
      "Epoch 82/300\n",
      "20/20 [==============================] - 0s 4ms/step - loss: 0.0898 - val_loss: 0.0844\n"
     ]
    },
    {
     "name": "stdout",
     "output_type": "stream",
     "text": [
      "Epoch 83/300\n",
      "20/20 [==============================] - 0s 4ms/step - loss: 0.0744 - val_loss: 0.0646\n",
      "Epoch 84/300\n",
      "20/20 [==============================] - 0s 4ms/step - loss: 0.0794 - val_loss: 0.0780\n",
      "Epoch 85/300\n",
      "20/20 [==============================] - 0s 4ms/step - loss: 0.0828 - val_loss: 0.0740\n",
      "Epoch 86/300\n",
      "20/20 [==============================] - 0s 4ms/step - loss: 0.0711 - val_loss: 0.0718\n",
      "Epoch 87/300\n",
      "20/20 [==============================] - 0s 4ms/step - loss: 0.0678 - val_loss: 0.0619\n",
      "Epoch 88/300\n",
      "20/20 [==============================] - 0s 4ms/step - loss: 0.0629 - val_loss: 0.0780\n",
      "Epoch 89/300\n",
      "20/20 [==============================] - 0s 5ms/step - loss: 0.0733 - val_loss: 0.0756\n",
      "Epoch 90/300\n",
      "20/20 [==============================] - 0s 4ms/step - loss: 0.0715 - val_loss: 0.0771\n",
      "Epoch 91/300\n",
      "20/20 [==============================] - 0s 7ms/step - loss: 0.0702 - val_loss: 0.0686\n",
      "Epoch 92/300\n",
      "20/20 [==============================] - 0s 12ms/step - loss: 0.0706 - val_loss: 0.0669\n",
      "Epoch 93/300\n",
      "20/20 [==============================] - 0s 5ms/step - loss: 0.0718 - val_loss: 0.0698\n",
      "Epoch 94/300\n",
      "20/20 [==============================] - 0s 5ms/step - loss: 0.0638 - val_loss: 0.0736\n",
      "Epoch 95/300\n",
      "20/20 [==============================] - 0s 6ms/step - loss: 0.0724 - val_loss: 0.0842\n",
      "Epoch 96/300\n",
      "20/20 [==============================] - 0s 4ms/step - loss: 0.0713 - val_loss: 0.0824\n",
      "Epoch 97/300\n",
      "20/20 [==============================] - 0s 5ms/step - loss: 0.0701 - val_loss: 0.0639\n",
      "Epoch 98/300\n",
      "20/20 [==============================] - 0s 5ms/step - loss: 0.0610 - val_loss: 0.0646\n",
      "Epoch 99/300\n",
      "20/20 [==============================] - 0s 4ms/step - loss: 0.0642 - val_loss: 0.0715\n",
      "Epoch 100/300\n",
      "20/20 [==============================] - 0s 5ms/step - loss: 0.0699 - val_loss: 0.0684\n",
      "Epoch 101/300\n",
      "20/20 [==============================] - 0s 5ms/step - loss: 0.0671 - val_loss: 0.0658\n",
      "Epoch 102/300\n",
      "20/20 [==============================] - 0s 5ms/step - loss: 0.0767 - val_loss: 0.0831\n",
      "Epoch 103/300\n",
      "20/20 [==============================] - 0s 4ms/step - loss: 0.0726 - val_loss: 0.0624\n",
      "Epoch 104/300\n",
      "20/20 [==============================] - 0s 4ms/step - loss: 0.0667 - val_loss: 0.0735\n",
      "Epoch 105/300\n",
      "20/20 [==============================] - 0s 4ms/step - loss: 0.0788 - val_loss: 0.0762\n",
      "Epoch 106/300\n",
      "20/20 [==============================] - 0s 6ms/step - loss: 0.0752 - val_loss: 0.0814\n",
      "Epoch 107/300\n",
      "20/20 [==============================] - 0s 4ms/step - loss: 0.0699 - val_loss: 0.0729\n",
      "Epoch 108/300\n",
      "20/20 [==============================] - 0s 3ms/step - loss: 0.0634 - val_loss: 0.0589\n",
      "Epoch 109/300\n",
      "20/20 [==============================] - 0s 4ms/step - loss: 0.0627 - val_loss: 0.0673\n",
      "Epoch 110/300\n",
      "20/20 [==============================] - 0s 4ms/step - loss: 0.0670 - val_loss: 0.0720\n",
      "Epoch 111/300\n",
      "20/20 [==============================] - 0s 5ms/step - loss: 0.0674 - val_loss: 0.0761\n",
      "Epoch 112/300\n",
      "20/20 [==============================] - 0s 4ms/step - loss: 0.0695 - val_loss: 0.0711\n",
      "Epoch 113/300\n",
      "20/20 [==============================] - 0s 4ms/step - loss: 0.0684 - val_loss: 0.0707\n",
      "Epoch 114/300\n",
      "20/20 [==============================] - 0s 4ms/step - loss: 0.0637 - val_loss: 0.0668\n",
      "Epoch 115/300\n",
      "20/20 [==============================] - 0s 4ms/step - loss: 0.0629 - val_loss: 0.0635\n",
      "Epoch 116/300\n",
      "20/20 [==============================] - 0s 4ms/step - loss: 0.0702 - val_loss: 0.0751\n",
      "Epoch 117/300\n",
      "20/20 [==============================] - 0s 4ms/step - loss: 0.0703 - val_loss: 0.0736\n",
      "Epoch 118/300\n",
      "20/20 [==============================] - 0s 5ms/step - loss: 0.0703 - val_loss: 0.0697\n",
      "Epoch 119/300\n",
      "20/20 [==============================] - 0s 4ms/step - loss: 0.0678 - val_loss: 0.0771\n",
      "Epoch 120/300\n",
      "20/20 [==============================] - 0s 4ms/step - loss: 0.0676 - val_loss: 0.0665\n",
      "Epoch 121/300\n",
      "20/20 [==============================] - 0s 4ms/step - loss: 0.0706 - val_loss: 0.0809\n",
      "Epoch 122/300\n",
      "20/20 [==============================] - 0s 3ms/step - loss: 0.0669 - val_loss: 0.0702\n",
      "Epoch 123/300\n",
      "20/20 [==============================] - 0s 4ms/step - loss: 0.0656 - val_loss: 0.0695\n",
      "Epoch 124/300\n",
      "20/20 [==============================] - 0s 4ms/step - loss: 0.0697 - val_loss: 0.0667\n",
      "Epoch 125/300\n",
      "20/20 [==============================] - 0s 4ms/step - loss: 0.0720 - val_loss: 0.0736\n",
      "Epoch 126/300\n",
      "20/20 [==============================] - 0s 3ms/step - loss: 0.0703 - val_loss: 0.0650\n",
      "Epoch 127/300\n",
      "20/20 [==============================] - 0s 4ms/step - loss: 0.0601 - val_loss: 0.0676\n",
      "Epoch 128/300\n",
      "20/20 [==============================] - 0s 4ms/step - loss: 0.0681 - val_loss: 0.0754\n",
      "Epoch 129/300\n",
      "20/20 [==============================] - 0s 4ms/step - loss: 0.0659 - val_loss: 0.0720\n",
      "Epoch 130/300\n",
      "20/20 [==============================] - 0s 4ms/step - loss: 0.0649 - val_loss: 0.0653\n",
      "Epoch 131/300\n",
      "20/20 [==============================] - 0s 4ms/step - loss: 0.0658 - val_loss: 0.0603\n",
      "Epoch 132/300\n",
      "20/20 [==============================] - 0s 4ms/step - loss: 0.0647 - val_loss: 0.0697\n",
      "Epoch 133/300\n",
      "20/20 [==============================] - 0s 4ms/step - loss: 0.0672 - val_loss: 0.0734\n",
      "Epoch 133: early stopping\n"
     ]
    },
    {
     "data": {
      "text/plain": [
       "<keras.callbacks.History at 0x26d0a8eda00>"
      ]
     },
     "execution_count": 32,
     "metadata": {},
     "output_type": "execute_result"
    }
   ],
   "source": [
    "#Trainieren des Models\n",
    "model.fit(x=X_train,y=y_train,validation_data=(X_test,y_test),epochs=300,batch_size=128, callbacks=[early_stop])"
   ]
  },
  {
   "cell_type": "code",
   "execution_count": 33,
   "id": "1ad6e1f0",
   "metadata": {},
   "outputs": [],
   "source": [
    "loss_df = pd.DataFrame(model.history.history)"
   ]
  },
  {
   "cell_type": "code",
   "execution_count": 34,
   "id": "529b7fb1",
   "metadata": {
    "scrolled": true
   },
   "outputs": [
    {
     "data": {
      "text/plain": [
       "<AxesSubplot:>"
      ]
     },
     "execution_count": 34,
     "metadata": {},
     "output_type": "execute_result"
    },
    {
     "data": {
      "image/png": "[encoded data removed]",
      "text/plain": [
       "<Figure size 432x288 with 1 Axes>"
      ]
     },
     "metadata": {
      "needs_background": "light"
     },
     "output_type": "display_data"
    }
   ],
   "source": [
    "loss_df.plot()"
   ]
  },
  {
   "cell_type": "code",
   "execution_count": 35,
   "id": "86d7e7ab",
   "metadata": {},
   "outputs": [
    {
     "data": {
      "text/plain": [
       "0.07339435815811157"
      ]
     },
     "execution_count": 35,
     "metadata": {},
     "output_type": "execute_result"
    }
   ],
   "source": [
    "model.evaluate(X_test,y_test,verbose=0)"
   ]
  },
  {
   "cell_type": "code",
   "execution_count": 36,
   "id": "4922f99d",
   "metadata": {},
   "outputs": [
    {
     "data": {
      "text/plain": [
       "0.07013034075498581"
      ]
     },
     "execution_count": 36,
     "metadata": {},
     "output_type": "execute_result"
    }
   ],
   "source": [
    "model.evaluate(X_train,y_train,verbose=0)"
   ]
  },
  {
   "cell_type": "code",
   "execution_count": 37,
   "id": "7ceff925",
   "metadata": {},
   "outputs": [
    {
     "name": "stdout",
     "output_type": "stream",
     "text": [
      "34/34 [==============================] - 8s 1ms/step\n"
     ]
    }
   ],
   "source": [
    "test_predictions = model.predict(X_test)"
   ]
  },
  {
   "cell_type": "code",
   "execution_count": 38,
   "id": "136f7bd7",
   "metadata": {},
   "outputs": [],
   "source": [
    "test_predictions = pd.Series(test_predictions.reshape(1086,))"
   ]
  },
  {
   "cell_type": "code",
   "execution_count": 39,
   "id": "ffcefab7",
   "metadata": {},
   "outputs": [],
   "source": [
    "pred_df = pd.DataFrame(y_test)"
   ]
  },
  {
   "cell_type": "code",
   "execution_count": 40,
   "id": "8064bc37",
   "metadata": {},
   "outputs": [],
   "source": [
    "pred_df = pd.concat([pred_df,test_predictions],axis=1)"
   ]
  },
  {
   "cell_type": "code",
   "execution_count": 41,
   "id": "f53e24a9",
   "metadata": {},
   "outputs": [],
   "source": [
    "pred_df.columns = ['Test True Frequency', 'Estimated Frequency']"
   ]
  },
  {
   "cell_type": "code",
   "execution_count": 44,
   "id": "360cda66",
   "metadata": {},
   "outputs": [],
   "source": [
    "pred_df = round(pred_df,1)"
   ]
  },
  {
   "cell_type": "code",
   "execution_count": 45,
   "id": "609f1e1c",
   "metadata": {},
   "outputs": [
    {
     "data": {
      "text/html": [
       "<div>\n",
       "<style scoped>\n",
       "    .dataframe tbody tr th:only-of-type {\n",
       "        vertical-align: middle;\n",
       "    }\n",
       "\n",
       "    .dataframe tbody tr th {\n",
       "        vertical-align: top;\n",
       "    }\n",
       "\n",
       "    .dataframe thead th {\n",
       "        text-align: right;\n",
       "    }\n",
       "</style>\n",
       "<table border=\"1\" class=\"dataframe\">\n",
       "  <thead>\n",
       "    <tr style=\"text-align: right;\">\n",
       "      <th></th>\n",
       "      <th>Test True Frequency</th>\n",
       "      <th>Estimated Frequency</th>\n",
       "    </tr>\n",
       "  </thead>\n",
       "  <tbody>\n",
       "    <tr>\n",
       "      <th>0</th>\n",
       "      <td>8</td>\n",
       "      <td>8.000000</td>\n",
       "    </tr>\n",
       "    <tr>\n",
       "      <th>1</th>\n",
       "      <td>17</td>\n",
       "      <td>17.000000</td>\n",
       "    </tr>\n",
       "    <tr>\n",
       "      <th>2</th>\n",
       "      <td>12</td>\n",
       "      <td>12.000000</td>\n",
       "    </tr>\n",
       "    <tr>\n",
       "      <th>3</th>\n",
       "      <td>16</td>\n",
       "      <td>16.200001</td>\n",
       "    </tr>\n",
       "    <tr>\n",
       "      <th>4</th>\n",
       "      <td>20</td>\n",
       "      <td>20.000000</td>\n",
       "    </tr>\n",
       "    <tr>\n",
       "      <th>...</th>\n",
       "      <td>...</td>\n",
       "      <td>...</td>\n",
       "    </tr>\n",
       "    <tr>\n",
       "      <th>1081</th>\n",
       "      <td>14</td>\n",
       "      <td>14.100000</td>\n",
       "    </tr>\n",
       "    <tr>\n",
       "      <th>1082</th>\n",
       "      <td>13</td>\n",
       "      <td>13.000000</td>\n",
       "    </tr>\n",
       "    <tr>\n",
       "      <th>1083</th>\n",
       "      <td>5</td>\n",
       "      <td>5.000000</td>\n",
       "    </tr>\n",
       "    <tr>\n",
       "      <th>1084</th>\n",
       "      <td>7</td>\n",
       "      <td>7.200000</td>\n",
       "    </tr>\n",
       "    <tr>\n",
       "      <th>1085</th>\n",
       "      <td>20</td>\n",
       "      <td>20.200001</td>\n",
       "    </tr>\n",
       "  </tbody>\n",
       "</table>\n",
       "<p>1086 rows × 2 columns</p>\n",
       "</div>"
      ],
      "text/plain": [
       "      Test True Frequency  Estimated Frequency\n",
       "0                       8             8.000000\n",
       "1                      17            17.000000\n",
       "2                      12            12.000000\n",
       "3                      16            16.200001\n",
       "4                      20            20.000000\n",
       "...                   ...                  ...\n",
       "1081                   14            14.100000\n",
       "1082                   13            13.000000\n",
       "1083                    5             5.000000\n",
       "1084                    7             7.200000\n",
       "1085                   20            20.200001\n",
       "\n",
       "[1086 rows x 2 columns]"
      ]
     },
     "execution_count": 45,
     "metadata": {},
     "output_type": "execute_result"
    }
   ],
   "source": [
    "#Testfrequenzen vs. eingeschätzte Frequenzen\n",
    "pred_df"
   ]
  },
  {
   "cell_type": "code",
   "execution_count": 46,
   "id": "b92f77a7",
   "metadata": {},
   "outputs": [
    {
     "name": "stdout",
     "output_type": "stream",
     "text": [
      "1/1 [==============================] - 0s 55ms/step\n",
      "3.0\n",
      "2.0\n",
      "3.0\n",
      "3.0\n",
      "5.0\n",
      "6.0\n",
      "7.0\n",
      "8.0\n",
      "9.0\n",
      "7.0\n",
      "11.0\n",
      "9.0\n",
      "13.0\n",
      "14.0\n",
      "11.0\n",
      "13.0\n",
      "17.0\n",
      "10.0\n",
      "17.0\n",
      "16.0\n"
     ]
    }
   ],
   "source": [
    "# Generierung zufällige Daten zum Testen des Models\n",
    "\n",
    "A = 1 #Amplitude\n",
    "\n",
    "x_pruef = []\n",
    "y_pruef = []\n",
    "    \n",
    "for i in range(1,21,1):    \n",
    "    y_pruef.append(i)\n",
    "\n",
    "# Time Vector\n",
    "x = np.arange(0,1,0.001)\n",
    "\n",
    "# y-Vector\n",
    "\n",
    "for i in y_pruef:\n",
    "    phase_shift = round(random.random()*100,2)\n",
    "    x_pruef.append([A*np.sin(2*np.pi*x*i+(90*phase_shift*np.pi)/90)])\n",
    "\n",
    "\n",
    "\n",
    "\n",
    "x_pruef1 = np.array(x_pruef).reshape((20,1000))\n",
    "   \n",
    "\n",
    "\n",
    "y_pred=model.predict(x_pruef1)\n",
    "\n",
    "for i in range(20):\n",
    "    test = y_pred[i]\n",
    "    test = round(float(test), 0)\n",
    "    print(test)"
   ]
  },
  {
   "cell_type": "code",
   "execution_count": null,
   "id": "4bd6bee7",
   "metadata": {},
   "outputs": [],
   "source": []
  }
 ],
 "metadata": {
  "kernelspec": {
   "display_name": "Python 3 (ipykernel)",
   "language": "python",
   "name": "python3"
  },
  "language_info": {
   "codemirror_mode": {
    "name": "ipython",
    "version": 3
   },
   "file_extension": ".py",
   "mimetype": "text/x-python",
   "name": "python",
   "nbconvert_exporter": "python",
   "pygments_lexer": "ipython3",
   "version": "3.9.7"
  }
 },
 "nbformat": 4,
 "nbformat_minor": 5
}
